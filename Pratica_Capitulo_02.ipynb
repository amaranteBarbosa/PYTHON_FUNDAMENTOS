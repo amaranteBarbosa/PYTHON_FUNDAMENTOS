{
  "nbformat": 4,
  "nbformat_minor": 0,
  "metadata": {
    "colab": {
      "name": "Pratica_Capitulo_02.ipynb",
      "provenance": [],
      "collapsed_sections": []
    },
    "kernelspec": {
      "name": "python3",
      "display_name": "Python 3"
    },
    "language_info": {
      "name": "python"
    }
  },
  "cells": [
    {
      "cell_type": "markdown",
      "source": [
        "**VARIÁVEIS, EXPRESSÕE E COMANDOS**"
      ],
      "metadata": {
        "id": "SCn8DV_cR8ny"
      }
    },
    {
      "cell_type": "code",
      "execution_count": null,
      "metadata": {
        "colab": {
          "base_uri": "https://localhost:8080/"
        },
        "id": "PGy_5WWbRp6B",
        "outputId": "bd067d02-541c-414c-9ab8-10de09dff30c"
      },
      "outputs": [
        {
          "output_type": "stream",
          "name": "stdout",
          "text": [
            "4\n",
            "4\n",
            "3.2\n",
            "3.2\n",
            "primeiro texto\n"
          ]
        }
      ],
      "source": [
        "print(4)\n",
        "print(\"4\")\n",
        "print(3.2)\n",
        "print(\"3.2\")\n",
        "print(\"primeiro texto\")"
      ]
    },
    {
      "cell_type": "code",
      "source": [
        "print(type(4))\n",
        "print(type(\"4\"))\n",
        "print(type(3.2))\n",
        "print(type(\"3.2\"))\n",
        "print(type(\"primeiro texto\"))"
      ],
      "metadata": {
        "colab": {
          "base_uri": "https://localhost:8080/"
        },
        "id": "qi7h3ypfSDoo",
        "outputId": "6fada197-7342-409b-fe1b-9f4f9be00a99"
      },
      "execution_count": null,
      "outputs": [
        {
          "output_type": "stream",
          "name": "stdout",
          "text": [
            "<class 'int'>\n",
            "<class 'str'>\n",
            "<class 'float'>\n",
            "<class 'str'>\n",
            "<class 'str'>\n"
          ]
        }
      ]
    },
    {
      "cell_type": "markdown",
      "source": [
        "**ERRO DE SEMÂNTICA**"
      ],
      "metadata": {
        "id": "lNe_iRhNS1Za"
      }
    },
    {
      "cell_type": "code",
      "source": [
        "print(1,000,000,00)    # Erro de semântica se a intenção era escrever o número 1,000,000.00\n",
        "print(1,000,000.00)    # Erro de semântica\n",
        "print(f'Número Formatado :  {1000000:,.2f}')\n",
        "#print(1.000.000)      # Sintaxe inválida\n",
        "print(1000000)"
      ],
      "metadata": {
        "colab": {
          "base_uri": "https://localhost:8080/"
        },
        "id": "v2_vG9TXS6Se",
        "outputId": "74d81649-2186-4ba1-8f5a-171fe45d7bf1"
      },
      "execution_count": null,
      "outputs": [
        {
          "output_type": "stream",
          "name": "stdout",
          "text": [
            "1 0 0 0\n",
            "1 0 0.0\n",
            "Número Formatado :  1,000,000.00\n",
            "1000000\n"
          ]
        }
      ]
    },
    {
      "cell_type": "markdown",
      "source": [
        "**VARIÁVEIS**"
      ],
      "metadata": {
        "id": "soFvOIl6VM55"
      }
    },
    {
      "cell_type": "code",
      "source": [
        "mensagem = 'Esta é uma mensagem para a variável'\n",
        "n=17\n",
        "pi=3.1415926536\n",
        "print(mensagem,n,pi)"
      ],
      "metadata": {
        "colab": {
          "base_uri": "https://localhost:8080/"
        },
        "id": "UQcFV7lQVRA6",
        "outputId": "c122fd72-08c7-46db-b72a-87c83de394ad"
      },
      "execution_count": null,
      "outputs": [
        {
          "output_type": "stream",
          "name": "stdout",
          "text": [
            "Esta é uma mensagem para a variável 17 3.1415926536\n"
          ]
        }
      ]
    },
    {
      "cell_type": "markdown",
      "source": [
        "**NOME DE VARIÁVEIS E PALAVRAS CHAVES**"
      ],
      "metadata": {
        "id": "MIY-x3LrVt9B"
      }
    },
    {
      "cell_type": "code",
      "source": [
        "2022PrimeiraVariavel = \"testando\"    # Sintaxe inválida, nome não pode começar com número\n",
        "email@ = \"amarantegba@outlool.com\"   # Sintaxe inválida, nome não pode conter caracter especial\n",
        "class =\"Python básico\"               # Sintaxe inválida, nome não pode ser uma palavra reservada do PYTHON\n",
        "meu nome = \"amarante\"                # não pode conter espaços no nome da variável"
      ],
      "metadata": {
        "id": "TteD3tAFVzYN"
      },
      "execution_count": null,
      "outputs": []
    },
    {
      "cell_type": "code",
      "source": [
        "pi=3.14\n",
        "print(Pi)  # O nome da variável é sensível ao caso (case sensitive), a letra P está em letra maiúscula"
      ],
      "metadata": {
        "id": "7te6PZIAfiQ1"
      },
      "execution_count": null,
      "outputs": []
    },
    {
      "cell_type": "markdown",
      "source": [
        "**COMANDOS**"
      ],
      "metadata": {
        "id": "oW7Tn63pWtwd"
      }
    },
    {
      "cell_type": "code",
      "source": [
        "print(\"viva o Brasil\")\n",
        "men = \"viva o Brasil\"\n",
        "print(men)\n",
        "print(1)\n",
        "x=2\n",
        "print(x)"
      ],
      "metadata": {
        "id": "JYVgGgCaWyI0"
      },
      "execution_count": null,
      "outputs": []
    },
    {
      "cell_type": "markdown",
      "source": [
        "**OPERADORES E OPERANDOS**"
      ],
      "metadata": {
        "id": "w3eFtHpKXf1W"
      }
    },
    {
      "cell_type": "code",
      "source": [
        "minuto=590\n",
        "minuto/60  #Resultado da divisão é em ponto flutuante\n",
        "## Truncar o resultado para inteiro\n",
        "minuto=590\n",
        "minuto//60"
      ],
      "metadata": {
        "id": "VV-gCoVWXkBJ"
      },
      "execution_count": null,
      "outputs": []
    },
    {
      "cell_type": "markdown",
      "source": [
        "**EXPRESSÕES**"
      ],
      "metadata": {
        "id": "IDjo6DOrYYmR"
      }
    },
    {
      "cell_type": "code",
      "source": [
        "5\n",
        "X=5\n",
        "X+1"
      ],
      "metadata": {
        "id": "vnPuVp2dYfC9"
      },
      "execution_count": null,
      "outputs": []
    },
    {
      "cell_type": "markdown",
      "source": [
        "#soma dois valores\n",
        "5 + 2 resulta em 7\n",
        "#subtrai dois valores\n",
        "5 - 2 resulta em 3\n",
        "#multiplica dois valores\n",
        "5 * 2 resulta em 10\n",
        "#divide dois valores (sem arredondar)\n",
        "5 / 2 resulta em 2.5\n",
        "#divide dois valores (arredondando para baixo)\n",
        "5 // 2 resulta em 2\n",
        "#resto da divisão\n",
        "5 % 2 resulta em 1\n",
        "#exponenciação\n",
        "5 ** 2 resulta em 25"
      ],
      "metadata": {
        "id": "LS7kX3f3ZNK_"
      }
    },
    {
      "cell_type": "code",
      "source": [
        "print(5+2)\n",
        "print(5-2)\n",
        "print(5*2)\n",
        "print(5/2)\n",
        "print(5//2)\n",
        "print(5%2)\n",
        "print(5**2)"
      ],
      "metadata": {
        "id": "88wEL8oqZ3u4"
      },
      "execution_count": null,
      "outputs": []
    },
    {
      "cell_type": "markdown",
      "source": [
        "**ORDEM DAS OPERAÇÕES**"
      ],
      "metadata": {
        "id": "SXoWFLw7bDmO"
      }
    },
    {
      "cell_type": "code",
      "source": [
        "## PARÊNTESES\n",
        "print(2*(3-1))\n",
        "print((1+1)**(5-2))\n",
        "minuto=456\n",
        "print((minuto*100)/60)"
      ],
      "metadata": {
        "id": "tgiawbbkbHPf"
      },
      "execution_count": null,
      "outputs": []
    },
    {
      "cell_type": "code",
      "source": [
        "## EXPONENCIAÇÃO\n",
        "print(2**1+1)\n",
        "print(3*1**3)"
      ],
      "metadata": {
        "colab": {
          "base_uri": "https://localhost:8080/"
        },
        "id": "BpDQsPjlbsI-",
        "outputId": "e278e419-1163-4463-86b2-0d7b3b377881"
      },
      "execution_count": null,
      "outputs": [
        {
          "output_type": "stream",
          "name": "stdout",
          "text": [
            "3\n",
            "3\n"
          ]
        }
      ]
    },
    {
      "cell_type": "code",
      "source": [
        "## MULTIPLICAÇÃO E DIVISÃO\n",
        "print(2*3-1)\n",
        "print(6+4/2)\n"
      ],
      "metadata": {
        "id": "ma33xF1_cBa_"
      },
      "execution_count": null,
      "outputs": []
    },
    {
      "cell_type": "code",
      "source": [
        "## OPERADOR MODULAR\n",
        "print(7//3) #quociente inteiro\n",
        "print(7%3)  #resto da divisão\n"
      ],
      "metadata": {
        "id": "hCtb1Wjkcun7"
      },
      "execution_count": null,
      "outputs": []
    },
    {
      "cell_type": "code",
      "source": [
        "## OPERAÇÃO COM CADEIA DE CARACTERES\n",
        "var_nome=input(\"Qual o seu nome ? \")  ##Pede a variável na mesma linha\n",
        "print(var_nome)\n",
        "\n",
        "##\\n\n",
        "var_nome=input(\"Qual o seu nome ?\\n\") ##Pede a variável na linha seguinte\n",
        "print(var_nome)\n"
      ],
      "metadata": {
        "colab": {
          "base_uri": "https://localhost:8080/"
        },
        "id": "ovxNp7ZgdB2i",
        "outputId": "6857217b-bc38-41c1-9b67-b4f33dfe0284"
      },
      "execution_count": null,
      "outputs": [
        {
          "output_type": "stream",
          "name": "stdout",
          "text": [
            "Qual o seu nome ? amarante\n",
            "amarante\n",
            "Qual o seu nome ?\n",
            "amarante\n",
            "amarante\n"
          ]
        }
      ]
    },
    {
      "cell_type": "code",
      "source": [
        "## OPERAÇÃO COM NÚMEROS INTEIROS\n",
        "var_idade=input(\"Qual a sua idade ? \")  \n",
        "print(type(var_idade))\n",
        "print(var_idade+3)    ## Erro, a classe da variável var_idade é string\n",
        "\n"
      ],
      "metadata": {
        "id": "mapte0WaeIYq"
      },
      "execution_count": null,
      "outputs": []
    },
    {
      "cell_type": "code",
      "source": [
        "## OPERAÇÃO COM NÚMEROS INTEIROS\n",
        "var_idade=int(input(\"Qual a sua idade ? \"))  \n",
        "print(type(var_idade))\n",
        "print(var_idade+3)    "
      ],
      "metadata": {
        "id": "lc1FK1OleqRa"
      },
      "execution_count": null,
      "outputs": []
    },
    {
      "cell_type": "markdown",
      "source": [
        "EXERCÍCIOS"
      ],
      "metadata": {
        "id": "HrywRFLOqg8U"
      }
    },
    {
      "cell_type": "markdown",
      "source": [
        "1 - Write a program that uses input to prompt a user for their\n",
        "name and then welcomes them."
      ],
      "metadata": {
        "id": "Aa_JsxWxqpUQ"
      }
    },
    {
      "cell_type": "code",
      "source": [
        "nome=input(\"Digite seu nome :\")\n",
        "print(\"Seja bem vindo \"+nome)"
      ],
      "metadata": {
        "id": "o2VxjJkrrAc2"
      },
      "execution_count": null,
      "outputs": []
    },
    {
      "cell_type": "markdown",
      "source": [
        "2 - Write a program to prompt the user for hours and rate per\n",
        "hour to compute gross pay."
      ],
      "metadata": {
        "id": "_heFp-YFra_t"
      }
    },
    {
      "cell_type": "code",
      "source": [
        "horas=int(input(\"Entre com o número de horas : \"))\n",
        "valorHora=float(input(\"Entre com o valor da hora : \"))\n",
        "print(\"Valor do Pagamento : \",horas*valorHora)"
      ],
      "metadata": {
        "id": "rBgw6B7irtH3"
      },
      "execution_count": null,
      "outputs": []
    },
    {
      "cell_type": "markdown",
      "source": [
        "3 - Assume that we execute the following assignment statements:\n",
        "width = 17\n",
        "height = 12.0\n",
        "\n",
        "\n",
        "For each of the following expressions, write the value of the expression and the\n",
        "type (of the value of the expression).\n",
        "1. width//2\n",
        "2. width/2.0\n",
        "3. height/3\n",
        "4. 1 + 2 * 5"
      ],
      "metadata": {
        "id": "hwuc0U3zsQAb"
      }
    },
    {
      "cell_type": "code",
      "source": [
        "## Item 3.1\n",
        "width=17\n",
        "height=12.0\n",
        "print(width//2)\n",
        "print(type(width//2))"
      ],
      "metadata": {
        "id": "cPJuImCHspoH"
      },
      "execution_count": null,
      "outputs": []
    },
    {
      "cell_type": "code",
      "source": [
        "##Item 3.2\n",
        "width=17\n",
        "height=12.0\n",
        "print(width/2)\n",
        "print(type(width/2))\n"
      ],
      "metadata": {
        "id": "_prKv78OhG6y"
      },
      "execution_count": null,
      "outputs": []
    },
    {
      "cell_type": "code",
      "source": [
        "##Item 3.2\n",
        "width=17\n",
        "height=12.0\n",
        "print(height/3)\n",
        "print(type(height/3))"
      ],
      "metadata": {
        "id": "iqk5pApZtN59"
      },
      "execution_count": null,
      "outputs": []
    },
    {
      "cell_type": "code",
      "source": [
        "##Item 3.4\n",
        "print(1 + 2 * 5)\n",
        "print(type(1 + 2 * 5))"
      ],
      "metadata": {
        "colab": {
          "base_uri": "https://localhost:8080/"
        },
        "id": "y_KgECgRtPNk",
        "outputId": "1d0268c5-4556-4904-a55a-14747d2458bc"
      },
      "execution_count": 8,
      "outputs": [
        {
          "output_type": "stream",
          "name": "stdout",
          "text": [
            "11\n",
            "<class 'int'>\n"
          ]
        }
      ]
    },
    {
      "cell_type": "markdown",
      "source": [
        "4 - Write a program which prompts the user for a Celsius temperature, \n",
        "convert the temperature to Fahrenheit, and print out the converted temperature."
      ],
      "metadata": {
        "id": "_99VHJaDt1pL"
      }
    },
    {
      "cell_type": "code",
      "source": [
        "celsius=float(input(\"Digite a temperatura em graus Celsisu :  \"))\n",
        "fahrenheit= celsius * 1.8 + 32\n",
        "print(f'Temperatura em Fahrenheit : {round(fahrenheit, 2)}')\n"
      ],
      "metadata": {
        "colab": {
          "base_uri": "https://localhost:8080/"
        },
        "id": "-e7MLQ-jtP99",
        "outputId": "6eec198e-a35d-4a92-8de1-819d256ee686"
      },
      "execution_count": 24,
      "outputs": [
        {
          "output_type": "stream",
          "name": "stdout",
          "text": [
            "Digite a temperatura em graus Celsisu :  67\n",
            "Temperatura em Fahrenheit : 152.6\n"
          ]
        }
      ]
    }
  ]
}