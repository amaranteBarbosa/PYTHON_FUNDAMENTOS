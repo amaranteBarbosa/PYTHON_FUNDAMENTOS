{
  "nbformat": 4,
  "nbformat_minor": 0,
  "metadata": {
    "colab": {
      "name": "PrimeiroCapitulo.ipynb",
      "provenance": [],
      "collapsed_sections": [],
      "authorship_tag": "ABX9TyNkYE6J9elZjbGmGb9W3MlP",
      "include_colab_link": true
    },
    "kernelspec": {
      "name": "python3",
      "display_name": "Python 3"
    },
    "language_info": {
      "name": "python"
    }
  },
  "cells": [
    {
      "cell_type": "markdown",
      "metadata": {
        "id": "view-in-github",
        "colab_type": "text"
      },
      "source": [
        "<a href=\"https://colab.research.google.com/github/amaranteBarbosa/PYTHON_FUNDAMENTOS/blob/main/PrimeiroCapitulo.ipynb\" target=\"_parent\"><img src=\"https://colab.research.google.com/assets/colab-badge.svg\" alt=\"Open In Colab\"/></a>"
      ]
    },
    {
      "cell_type": "markdown",
      "source": [
        "O ZEN DO **PYTHON**"
      ],
      "metadata": {
        "id": "_sIFwabVfssc"
      }
    },
    {
      "cell_type": "code",
      "execution_count": 1,
      "metadata": {
        "colab": {
          "base_uri": "https://localhost:8080/"
        },
        "id": "jNqK37IPdjzJ",
        "outputId": "f6bb26e2-7c9b-4df9-9c43-4caefd77c720"
      },
      "outputs": [
        {
          "output_type": "stream",
          "name": "stdout",
          "text": [
            "The Zen of Python, by Tim Peters\n",
            "\n",
            "Beautiful is better than ugly.\n",
            "Explicit is better than implicit.\n",
            "Simple is better than complex.\n",
            "Complex is better than complicated.\n",
            "Flat is better than nested.\n",
            "Sparse is better than dense.\n",
            "Readability counts.\n",
            "Special cases aren't special enough to break the rules.\n",
            "Although practicality beats purity.\n",
            "Errors should never pass silently.\n",
            "Unless explicitly silenced.\n",
            "In the face of ambiguity, refuse the temptation to guess.\n",
            "There should be one-- and preferably only one --obvious way to do it.\n",
            "Although that way may not be obvious at first unless you're Dutch.\n",
            "Now is better than never.\n",
            "Although never is often better than *right* now.\n",
            "If the implementation is hard to explain, it's a bad idea.\n",
            "If the implementation is easy to explain, it may be a good idea.\n",
            "Namespaces are one honking great idea -- let's do more of those!\n"
          ]
        }
      ],
      "source": [
        "import this"
      ]
    },
    {
      "cell_type": "code",
      "source": [
        "print(\"Fala Brasil\")"
      ],
      "metadata": {
        "colab": {
          "base_uri": "https://localhost:8080/"
        },
        "id": "41n3j0CMq2G8",
        "outputId": "ddeb036b-15e8-41df-f1e6-d1866e853703"
      },
      "execution_count": 2,
      "outputs": [
        {
          "output_type": "stream",
          "name": "stdout",
          "text": [
            "Fala Brasil\n"
          ]
        }
      ]
    },
    {
      "cell_type": "markdown",
      "source": [
        "Console de comandos"
      ],
      "metadata": {
        "id": "vGDsjq18rBxA"
      }
    },
    {
      "cell_type": "code",
      "source": [
        "!python --version\n"
      ],
      "metadata": {
        "colab": {
          "base_uri": "https://localhost:8080/"
        },
        "id": "azv6MVe-q7B9",
        "outputId": "f011aa25-08f1-4539-de48-1e5f02e25651"
      },
      "execution_count": 4,
      "outputs": [
        {
          "output_type": "stream",
          "name": "stdout",
          "text": [
            "Python 3.7.12\n"
          ]
        }
      ]
    },
    {
      "cell_type": "code",
      "source": [
        "x=6\n",
        "print(x)\n",
        "y=x*7\n",
        "print(y)"
      ],
      "metadata": {
        "colab": {
          "base_uri": "https://localhost:8080/"
        },
        "id": "oWUbwREdso80",
        "outputId": "eb720b1d-6aa3-455a-e341-2feae2962399"
      },
      "execution_count": 7,
      "outputs": [
        {
          "output_type": "stream",
          "name": "stdout",
          "text": [
            "6\n",
            "42\n"
          ]
        }
      ]
    },
    {
      "cell_type": "markdown",
      "source": [
        "# **EXERCÍCIOS BÁSICOS**"
      ],
      "metadata": {
        "id": "Y5HINRCluvd7"
      }
    },
    {
      "cell_type": "markdown",
      "source": [
        "Escreva um PROGRAMA que armazene o valor 10 em uma variável A e o valor 20 em Uma variável B.\n",
        "A seguir troque os seus conteúdos fazendo com que o\n",
        "valor que está em A passe para B e vice-versa. Ao final, escrever os valores que ficaram armazenados\n",
        "nas variáveis. "
      ],
      "metadata": {
        "id": "gYtA9uBPu7fq"
      }
    },
    {
      "cell_type": "code",
      "source": [
        "x=10\n",
        "y=20\n",
        "a=x\n",
        "x=y\n",
        "y=a\n",
        "print(x)\n",
        "print(y)\n",
        "\n"
      ],
      "metadata": {
        "id": "PZzTKF4qvNEC"
      },
      "execution_count": null,
      "outputs": []
    },
    {
      "cell_type": "markdown",
      "source": [
        "Escreva um programa para ler um valor (do teclado) e escrever (na tela) o seu antecessor. "
      ],
      "metadata": {
        "id": "l5Q0FwSvvn-P"
      }
    },
    {
      "cell_type": "code",
      "source": [
        "x=int(input(\"digite um número :  \"))\n",
        "x=x-1\n",
        "print(\"antecessor do número   é : \",x)"
      ],
      "metadata": {
        "id": "0CCBPwKxvszj"
      },
      "execution_count": null,
      "outputs": []
    },
    {
      "cell_type": "markdown",
      "source": [
        "Escreva um algoritmo para ler as dimensões de um retângulo (base e altura), calcular e escrever a\n",
        "área do retângulo. "
      ],
      "metadata": {
        "id": "OYk9z1b4wSQr"
      }
    },
    {
      "cell_type": "code",
      "source": [
        "x=int(input(\"Digite a base do retângulo :   \"))\n",
        "y=int(input(\"Digite a altura do retângulo : \"))\n",
        "print(\"A área do retângulo é : \",x*y)"
      ],
      "metadata": {
        "id": "AUqwhIC6wVqn"
      },
      "execution_count": null,
      "outputs": []
    },
    {
      "cell_type": "markdown",
      "source": [
        "Faça um algoritmo que leia a idade de uma pessoa expressa em anos, meses e dias e escreva a idade\n",
        "dessa pessoa expressa apenas em dias. Considerar ano com 365 dias e mês com 30 dias."
      ],
      "metadata": {
        "id": "56mm6xtbw8AF"
      }
    },
    {
      "cell_type": "code",
      "source": [
        "x=int(input(\"Digite o número de anos :  \"))\n",
        "y=int(input(\"Digite o número de meses :  \"))\n",
        "z=int(input(\"Digite o número de dias :  \"))\n",
        "a = 365 * x\n",
        "b = 30 * y\n",
        "print(\"A idade em número de dias é :  \",a+b+z)"
      ],
      "metadata": {
        "id": "YY-9eT2rw9gM"
      },
      "execution_count": null,
      "outputs": []
    },
    {
      "cell_type": "markdown",
      "source": [
        ""
      ],
      "metadata": {
        "id": "qUOx6lmWxzqT"
      }
    },
    {
      "cell_type": "markdown",
      "source": [
        "O custo de um carro novo ao consumidor é a soma do custo de fábrica com a porcentagem do\n",
        "distribuidor e dos impostos (aplicados ao custo de fábrica). Supondo que o percentual do distribuidor\n",
        "seja de 28% e os impostos de 45%, escrever um algoritmo para ler o custo de fábrica de um carro,\n",
        "calcular e escrever o custo final ao consumidor. "
      ],
      "metadata": {
        "id": "BNc-3j0XyA8Y"
      }
    },
    {
      "cell_type": "code",
      "source": [
        "x=float(input(\"Digite o custo de fábrica do carro :  \"))\n",
        "y=x*28/100  #Percentual do distribuidor\n",
        "a=x*45/100  #Impostos\n",
        "soma=x+y+a\n",
        "print(\"O custo final ao consumidor é :  \",soma)"
      ],
      "metadata": {
        "colab": {
          "base_uri": "https://localhost:8080/"
        },
        "id": "TtY7UpFOyClQ",
        "outputId": "54701e9e-1d56-4975-92f0-5db76846073b"
      },
      "execution_count": 21,
      "outputs": [
        {
          "output_type": "stream",
          "name": "stdout",
          "text": [
            "Digite o custo de fábrica do carro :  50000.00\n",
            "O custo final ao consumidor é :   86500.0\n"
          ]
        }
      ]
    },
    {
      "cell_type": "markdown",
      "source": [
        "Uma revendedora de carros usados paga a seus funcionários vendedores um salário fixo por mês,\n",
        "mais uma comissão também fixa para cada carro vendido e mais 5% do valor das vendas por ele\n",
        "efetuadas. Escrever um algoritmo que leia o número de carros por ele vendidos, o valor total de suas\n",
        "vendas, o salário fixo e o valor que ele recebe por carro vendido. Calcule e escreva o salário final do\n",
        "vendedor. "
      ],
      "metadata": {
        "id": "u8_pPBiI0B3T"
      }
    },
    {
      "cell_type": "code",
      "source": [
        "x=int(input(\"Número de carros vendidos : \"))\n",
        "y=float(input(\"Valor total das vendas no mês :  \"))\n",
        "z=float(input(\"Salário Fixo : \"))\n",
        "w=int(input(\"Percentual por carro vendido : \"))\n",
        "total_por_carro_vendido = x*w/100\n",
        "adicional_por_venda = y*5/100\n",
        "valor_recebido= total_por_carro_vendido + adicional_por_venda + z\n",
        "print(\"A receber no mês :  \",str(valor_recebido))\n"
      ],
      "metadata": {
        "id": "bPBPL7Od0De8"
      },
      "execution_count": null,
      "outputs": []
    }
  ]
}