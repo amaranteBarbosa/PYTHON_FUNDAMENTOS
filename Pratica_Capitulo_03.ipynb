{
  "nbformat": 4,
  "nbformat_minor": 0,
  "metadata": {
    "colab": {
      "name": "pratica_Capitulo_03.ipynb",
      "provenance": [],
      "collapsed_sections": []
    },
    "kernelspec": {
      "name": "python3",
      "display_name": "Python 3"
    },
    "language_info": {
      "name": "python"
    }
  },
  "cells": [
    {
      "cell_type": "markdown",
      "source": [
        "FUNDAMENTO DE PYTHON - UNIDADE-03"
      ],
      "metadata": {
        "id": "Rc9UIj3jRVB3"
      }
    },
    {
      "cell_type": "code",
      "execution_count": null,
      "metadata": {
        "colab": {
          "base_uri": "https://localhost:8080/"
        },
        "id": "1JDvifZqRPPi",
        "outputId": "201791c2-8646-4560-f97f-54a25de1bb9a"
      },
      "outputs": [
        {
          "output_type": "stream",
          "name": "stdout",
          "text": [
            "True\n",
            "True\n",
            "False\n",
            "True\n",
            "False\n",
            "False\n",
            "True\n"
          ]
        }
      ],
      "source": [
        "x=10\n",
        "y=3\n",
        "print(x!=y)\n",
        "print(x>y)\n",
        "print(x<y)\n",
        "print(x>=y)\n",
        "print(x<=y)\n",
        "print(x is y)\n",
        "print(x is not y)"
      ]
    },
    {
      "cell_type": "code",
      "source": [
        "##OBSERVAÇÃO  :  erros de sintaxe\n",
        "x=20\n",
        "y=30\n",
        "print(x=>y)   #correto :  x>=y\n",
        "print(x=<y)   #correto :  x<=y"
      ],
      "metadata": {
        "id": "K1OjWXqwSCbt"
      },
      "execution_count": null,
      "outputs": []
    },
    {
      "cell_type": "code",
      "source": [
        "## OPERADOR DE COMPARAÇÃO\n",
        "print(x==10)     ##Não haverá erro de sintaxe, pois é uma comparação\n"
      ],
      "metadata": {
        "colab": {
          "base_uri": "https://localhost:8080/"
        },
        "id": "DqdGUTmtSYVB",
        "outputId": "a9c7c695-258d-47ec-e929-7cca58dafce7"
      },
      "execution_count": null,
      "outputs": [
        {
          "output_type": "stream",
          "name": "stdout",
          "text": [
            "True\n"
          ]
        }
      ]
    },
    {
      "cell_type": "code",
      "source": [
        "## OPERADOR DE ATRIBUIÇÃO\n",
        "print(x=10)   ## erro de ARGUMENTO INVÁLIDO para função :   print()"
      ],
      "metadata": {
        "id": "2zrJ8HcfS2qS"
      },
      "execution_count": null,
      "outputs": []
    },
    {
      "cell_type": "markdown",
      "source": [
        "OPERADORES LÓGICOS"
      ],
      "metadata": {
        "id": "23E0hmwuTeVy"
      }
    },
    {
      "cell_type": "code",
      "source": [
        "##Qualquer numero diferente de ZERO é considerado TRUE\n",
        "print('***Lógica AND***')\n",
        "print(1 and True)\n",
        "print(True and 81)\n",
        "print(True and 0)\n",
        "print(23 and True)\n",
        "print(17 and True)\n",
        "print(100 and True)\n",
        "print(0 and True)   ##zero é FALSO\n",
        "##---------------------\n",
        "print('***Lógica OU***')\n",
        "print('**True**')\n",
        "print(1 or True)\n",
        "print(23 or True)\n",
        "print(17 or True)\n",
        "print(100 or True)\n",
        "print(0 or True)\n",
        "print('**False**')\n",
        "print(1 or False)\n",
        "print(23 or False)\n",
        "print(17 or False)\n",
        "print(100 or False)\n",
        "print(0 or False)"
      ],
      "metadata": {
        "id": "TY77E60XTiR0"
      },
      "execution_count": null,
      "outputs": []
    },
    {
      "cell_type": "code",
      "source": [
        "print('***AND***')\n",
        "print(3 and 2)\n",
        "print(6 and 8)\n",
        "print(5 and 9)\n",
        "print(9 and 5)\n",
        "#---\n",
        "print('***OR***')\n",
        "print(3 or 2)\n",
        "print(6 or 8)\n",
        "print(5 or 9)\n",
        "print(9 or 5)"
      ],
      "metadata": {
        "id": "_BP9D2qxWXpK",
        "colab": {
          "base_uri": "https://localhost:8080/"
        },
        "outputId": "a46b9c96-5645-46d5-897d-304c43486a8f"
      },
      "execution_count": 1,
      "outputs": [
        {
          "output_type": "stream",
          "name": "stdout",
          "text": [
            "***AND***\n",
            "2\n",
            "8\n",
            "9\n",
            "5\n",
            "***OR***\n",
            "3\n",
            "6\n",
            "5\n",
            "9\n"
          ]
        }
      ]
    },
    {
      "cell_type": "code",
      "source": [
        "##EXECUÇÃO CONDICIONAL\n",
        "x=39\n",
        "if x>0 :\n",
        "  print('x é positivo')"
      ],
      "metadata": {
        "colab": {
          "base_uri": "https://localhost:8080/"
        },
        "id": "i9b5dWdDYJ6W",
        "outputId": "4bc5697a-4453-4888-9baf-3e08626ba733"
      },
      "execution_count": null,
      "outputs": [
        {
          "output_type": "stream",
          "name": "stdout",
          "text": [
            "x é positivo\n"
          ]
        }
      ]
    },
    {
      "cell_type": "code",
      "source": [
        "##EXECUÇÃO ALTERNATIVA\n",
        "x=38\n",
        "if x%2==0 :\n",
        "  print('x é par')\n",
        "else:\n",
        "  print('x é impar')"
      ],
      "metadata": {
        "colab": {
          "base_uri": "https://localhost:8080/"
        },
        "id": "A9SBpkz3YVBq",
        "outputId": "29c1ac7c-4202-4aed-8e1b-34d10cc6ac86"
      },
      "execution_count": null,
      "outputs": [
        {
          "output_type": "stream",
          "name": "stdout",
          "text": [
            "x é par\n"
          ]
        }
      ]
    },
    {
      "cell_type": "code",
      "source": [
        "##CONDIÇÕES ENCADEADAS\n",
        "x=10\n",
        "y=10\n",
        "if x<y:\n",
        "  print('x é menor que y')\n",
        "elif x>y:\n",
        "  print('x é maior que y')\n",
        "else:\n",
        "  print('x é igual a y')"
      ],
      "metadata": {
        "colab": {
          "base_uri": "https://localhost:8080/"
        },
        "id": "xxoqO41jYzI3",
        "outputId": "e2c882e0-02b6-4dff-a5c7-f1c037c59964"
      },
      "execution_count": null,
      "outputs": [
        {
          "output_type": "stream",
          "name": "stdout",
          "text": [
            "x é igual a y\n"
          ]
        }
      ]
    },
    {
      "cell_type": "code",
      "source": [
        "##CONDIÇÕES ANINHADAS\n"
      ],
      "metadata": {
        "id": "UGKputUOZVPs"
      },
      "execution_count": null,
      "outputs": []
    },
    {
      "cell_type": "code",
      "source": [
        "##CONDIÇÕES ENCADEADAS\n",
        "x=10\n",
        "y=710\n",
        "if x==y:\n",
        "  print('x é igual a y')\n",
        "else:\n",
        "  if x>y:\n",
        "   print('x é maior que y')\n",
        "  else:\n",
        "   print('x é menor y')"
      ],
      "metadata": {
        "colab": {
          "base_uri": "https://localhost:8080/"
        },
        "outputId": "dafd60a6-f4c1-466e-d557-0713f43fd120",
        "id": "UNGVbMsSZaXX"
      },
      "execution_count": null,
      "outputs": [
        {
          "output_type": "stream",
          "name": "stdout",
          "text": [
            "x é menor y\n"
          ]
        }
      ]
    },
    {
      "cell_type": "code",
      "source": [
        "##CONDIÇÕES DE EXCEÇÃO\n",
        "##Sem tratamento de exceção.   Digitando um string será retornado um erro\n",
        "inp=input('Entre com a temperatura em FAHRENHEIT')\n",
        "fahr = float(inp)\n",
        "cel = (fahr - 32.0) * 5.0/9.0\n",
        "print(cel)"
      ],
      "metadata": {
        "id": "E29NMtKXZzef"
      },
      "execution_count": null,
      "outputs": []
    },
    {
      "cell_type": "code",
      "source": [
        "##CONDIÇÕES DE EXCEÇÃO\n",
        "##Com tratamento de exceção.\n",
        "inp=input('Entre com a temperatura em FAHRENHEIT :  ')\n",
        "try:\n",
        "  fahr = float(inp)\n",
        "  cel = (fahr - 32.0) * 5.0/9.0\n",
        "  print(cel)\n",
        "except:\n",
        "  print('A entrada deve ser obrigatoriamente numérica')"
      ],
      "metadata": {
        "id": "krWjUgtYW40y"
      },
      "execution_count": null,
      "outputs": []
    },
    {
      "cell_type": "code",
      "source": [
        "##PERFIL GUARDIÃO\n",
        "##Apesar do valor de y=0, provocando um erro na divisão de x por y\n",
        "##Nenhum erro é retornado.  Como é um AND a primeira sendo falsa não há necessidade\n",
        "##de avaliar o segundo argumento. Então nenhum erro é retornado pois x=1 e portanto menor que 2\n",
        "##expresão avaliada :  x>=2\n",
        "x=1\n",
        "y=0\n",
        "print(x>=2 and (x/y)>2)"
      ],
      "metadata": {
        "id": "6bSY5RHJXeAv"
      },
      "execution_count": null,
      "outputs": []
    },
    {
      "cell_type": "code",
      "source": [
        "##PERFIL GUARDIÃO\n",
        "##Para que a expressão toda seja verdadeira ambas devem ser verdadeira.\n",
        "##Para x=5, x>=2 é verdadeiro.  A segunda expressão precisará ser avaliada\n",
        "##Erro de divisão por zero será retornado\n",
        "x=5\n",
        "y=0\n",
        "print(x>=2 and (x/y)>2)"
      ],
      "metadata": {
        "id": "wIMLz3GeYCyL"
      },
      "execution_count": null,
      "outputs": []
    }
  ]
}