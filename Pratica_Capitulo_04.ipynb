{
  "nbformat": 4,
  "nbformat_minor": 0,
  "metadata": {
    "colab": {
      "name": "Pratica_Capitulo_04.ipynb",
      "provenance": [],
      "collapsed_sections": []
    },
    "kernelspec": {
      "name": "python3",
      "display_name": "Python 3"
    },
    "language_info": {
      "name": "python"
    }
  },
  "cells": [
    {
      "cell_type": "markdown",
      "source": [
        "FUNDAMENTO DE PYTHON - UNIDADE-04"
      ],
      "metadata": {
        "id": "Rc9UIj3jRVB3"
      }
    },
    {
      "cell_type": "code",
      "source": [
        "##FUNÇÕES BUILT-IN  (funções integradas)\n",
        "print(type(32))\n",
        "print(type('jose'))\n",
        "print(type(2.0))\n"
      ],
      "metadata": {
        "id": "B07Z7SiNdB4Y"
      },
      "execution_count": null,
      "outputs": []
    },
    {
      "cell_type": "code",
      "source": [
        "print(max('ola mundo'))  # A letra \"u\" será a maior, mas se acentuar o \"á\" será esta\n",
        "print(min('ola mundo'))  # O menor caracter será o espaço em branco\n",
        "print(len('ola mundo'))"
      ],
      "metadata": {
        "id": "jnIKu1NxeL5j"
      },
      "execution_count": null,
      "outputs": []
    },
    {
      "cell_type": "code",
      "source": [
        "## CONVERSÃO DE TIPOS\n",
        "print(int('32'))\n",
        "print(type(int('32')))\n",
        "print(int(3.999999))\n",
        "print(int(-2.333))\n",
        "\n",
        "print(float(32))\n",
        "print (float(('3.45678')))\n",
        "\n",
        "print(type(int('Brasil')))  ##Erro será retornado"
      ],
      "metadata": {
        "id": "R_hKaLuTe8hu"
      },
      "execution_count": null,
      "outputs": []
    },
    {
      "cell_type": "code",
      "source": [
        "## NÚMEROS RANDÔMICOS\n",
        "## Serão gerados 10 números randômicos entre 0 e 1\n",
        "## inclui o 0.0 mas não o 1.0\n",
        "import random\n",
        "for i in range(10):\n",
        "  print(random.random())"
      ],
      "metadata": {
        "id": "n_UbyEztfsS-"
      },
      "execution_count": null,
      "outputs": []
    },
    {
      "cell_type": "code",
      "source": [
        "## Função RANDINT\n",
        "print(random.randint(1,10))  ##Gera inteiros randômicos entre 1 e 10 inclusive"
      ],
      "metadata": {
        "id": "wt4tqowegdDi"
      },
      "execution_count": null,
      "outputs": []
    },
    {
      "cell_type": "code",
      "source": [
        "## Função CHOICE\n",
        "t = [1,2,3,4,5,6]\n",
        "print(random.choice(t))  ## Gera números randômicos dentro da lista"
      ],
      "metadata": {
        "id": "UvlFJpOzgz6v"
      },
      "execution_count": null,
      "outputs": []
    },
    {
      "cell_type": "code",
      "source": [
        "## Funções MATEMÁTICAS\n",
        "import math\n",
        "print(math)\n",
        "\n",
        "ratio = 5\n",
        "decibel = 10 * math.log10(ratio)\n",
        "print(ratio,decibel)\n",
        "\n",
        "radiano = 45\n",
        "print(math.sin(radiano))\n",
        "\n",
        "grau = 76\n",
        "radiano = grau /360.0 * 2 * math.pi\n",
        "print(math.sin(radiano))\n",
        "print(math.sqrt(2)/2.0)"
      ],
      "metadata": {
        "id": "ULjgTprwhVr-"
      },
      "execution_count": null,
      "outputs": []
    },
    {
      "cell_type": "code",
      "source": [
        "## FUNÇÕES DEFINIDAS PELO USUÁRIO\n",
        "## FUNÇÕES VAZIAS : Não possuem valor de retorno\n",
        "\n",
        "def imprimir_mensagem():\n",
        "  print('Brasil meu país')\n",
        "  print('Verás que um filho teu não foge à luta')\n",
        "  print('Nem temes quem te adora à própria morte')\n",
        "\n",
        "def imprimir_nome(nome):\n",
        "  print('Na outra função')\n",
        "  print(nome)\n",
        "  print(nome * 4)\n",
        "\n",
        "##Chamando as funções\n",
        "print(imprimir_mensagem())\n",
        "print(imprimir_nome('Brasil  '))"
      ],
      "metadata": {
        "id": "yN8LadvciSLY"
      },
      "execution_count": null,
      "outputs": []
    },
    {
      "cell_type": "code",
      "source": [
        "## FUNÇÕES DEFINIDAS PELO USUÁRIO\n",
        "## FUNÇÕES FÉRTEIS : retornam um valor\n",
        "\n",
        "def imprimir_mensagem(nome):\n",
        "  return (nome *4)\n",
        "def soma(op1,op2):\n",
        "  return (op1 + op2)\n",
        "\n",
        "print(imprimir_mensagem(' fortaleza '))\n",
        "\n",
        "print(soma(3,4))"
      ],
      "metadata": {
        "colab": {
          "base_uri": "https://localhost:8080/"
        },
        "id": "Jny-QhCdkVYE",
        "outputId": "288702d6-376f-46a8-c719-d9d135667732"
      },
      "execution_count": 69,
      "outputs": [
        {
          "output_type": "stream",
          "name": "stdout",
          "text": [
            " fortaleza  fortaleza  fortaleza  fortaleza \n",
            "7\n"
          ]
        }
      ]
    },
    {
      "cell_type": "code",
      "source": [
        "##CALCULADORA\n",
        "def calculadora(operacao,op1,op2):\n",
        "  if operacao =='soma':\n",
        "    x = op1+op2\n",
        "  elif operacao =='subtracao':\n",
        "    x = op1-op2\n",
        "  elif operacao =='multiplicacao':\n",
        "    x = op1*op2\n",
        "  elif operacao =='divisao':\n",
        "    x = op1 / op2\n",
        "  else :\n",
        "    print('operacao inválida')\n",
        "  return x\n",
        "\n",
        "print(calculadora('soma',6,8))\n",
        "print(calculadora('subtracao',16,8))\n",
        "print(calculadora('multiplicacao',9,7))\n",
        "print(calculadora('divisao',120,4))\n",
        "\n"
      ],
      "metadata": {
        "colab": {
          "base_uri": "https://localhost:8080/"
        },
        "id": "SOxKTjvklECH",
        "outputId": "4a51574f-8563-4ef2-c635-fee8033199e4"
      },
      "execution_count": 74,
      "outputs": [
        {
          "output_type": "stream",
          "name": "stdout",
          "text": [
            "14\n",
            "8\n",
            "63\n",
            "30.0\n"
          ]
        }
      ]
    }
  ]
}