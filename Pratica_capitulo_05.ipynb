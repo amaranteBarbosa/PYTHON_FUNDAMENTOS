{
  "nbformat": 4,
  "nbformat_minor": 0,
  "metadata": {
    "colab": {
      "name": "Pratica_capitulo_05.ipynb",
      "provenance": [],
      "collapsed_sections": []
    },
    "kernelspec": {
      "name": "python3",
      "display_name": "Python 3"
    },
    "language_info": {
      "name": "python"
    }
  },
  "cells": [
    {
      "cell_type": "code",
      "execution_count": null,
      "metadata": {
        "id": "6tL_A3KYYNWl"
      },
      "outputs": [],
      "source": [
        ""
      ]
    },
    {
      "cell_type": "markdown",
      "source": [
        "VARIÁVES"
      ],
      "metadata": {
        "id": "R1kXhYVyYTCG"
      }
    },
    {
      "cell_type": "code",
      "source": [
        "x=x+1   # Erro de variável não definida"
      ],
      "metadata": {
        "id": "fkqQH1kCYZSn"
      },
      "execution_count": null,
      "outputs": []
    },
    {
      "cell_type": "code",
      "source": [
        "x=0\n",
        "x=x+1"
      ],
      "metadata": {
        "id": "usE5OrFbYouI"
      },
      "execution_count": 3,
      "outputs": []
    },
    {
      "cell_type": "markdown",
      "source": [
        "COMANDO WHILE"
      ],
      "metadata": {
        "id": "fbjeWmcVY_LK"
      }
    },
    {
      "cell_type": "code",
      "source": [
        "n=0              #atribui ZERO para a variável n\n",
        "while n>0:       #Só entra no loop se a variável n for maior que ZERO, ou seja nunca executará o LOOP\n",
        "  print(n)\n",
        "  n=n-1\n",
        "print('Fim')\n"
      ],
      "metadata": {
        "colab": {
          "base_uri": "https://localhost:8080/"
        },
        "id": "dyA_6pNrY9cs",
        "outputId": "02863b5c-50ee-4dde-ec55-9f1d6558669e"
      },
      "execution_count": 5,
      "outputs": [
        {
          "output_type": "stream",
          "name": "stdout",
          "text": [
            "Fim\n"
          ]
        }
      ]
    },
    {
      "cell_type": "code",
      "source": [
        "n=0               #atribui ZERO para a variável n\n",
        "while n>=0:       #Só entra no loop se a variável n for maior ou igual a ZERO, executará o LOOP\n",
        "  print(n)\n",
        "  n=n-1           #torna o n NEGATIVO , o WHILE será executado uma vez\n",
        "print('Fim')"
      ],
      "metadata": {
        "colab": {
          "base_uri": "https://localhost:8080/"
        },
        "id": "RBSG4_DJZBmJ",
        "outputId": "47ab380e-81c5-4bb1-9055-0e45a4aa9fce"
      },
      "execution_count": 6,
      "outputs": [
        {
          "output_type": "stream",
          "name": "stdout",
          "text": [
            "0\n",
            "Fim\n"
          ]
        }
      ]
    },
    {
      "cell_type": "code",
      "source": [
        "n=0               #atribui ZERO para a variável n\n",
        "while n>=0:       #Só entra no loop se a variável n for maior ou igual a ZERO, executará o LOOP\n",
        "  print(n)\n",
        "  n=n+1           #torna o n POSITIVO , o WHILE será infinito\n",
        "print('Fim')"
      ],
      "metadata": {
        "id": "2a9R6PCwaFlf"
      },
      "execution_count": null,
      "outputs": []
    },
    {
      "cell_type": "code",
      "source": [
        "while True:               #Loop infinito\n",
        "  linha=input('>')        #Aguarda a digitação\n",
        "  print(linha)        \n",
        "  if linha=='parar':\n",
        "    break                 #Ao ser digitada a palavra 'parar' o comando BREAK para o LOOP\n",
        "  print(linha)\n",
        "print('FINALIZADO')"
      ],
      "metadata": {
        "id": "AxyEj2nXarSa"
      },
      "execution_count": null,
      "outputs": []
    },
    {
      "cell_type": "markdown",
      "source": [
        "ITERAÇÕES COM O COMANDO CONTINUE"
      ],
      "metadata": {
        "id": "a_xhggKIb124"
      }
    },
    {
      "cell_type": "code",
      "source": [
        "while True:               #Loop infinito\n",
        "  linha=input('>')        #Aguarda a digitação\n",
        "  print(linha)       \n",
        "  if linha[0]=='#':       #Se o primeiro caracter da digitação for \"#\"\n",
        "    continue              #Se o caracter \"#\" for digitado volta ao começao do WHILE\n",
        "  if linha =='parar':\n",
        "    break\n",
        "  print(linha)\n",
        "  print('Mais uma iteração')\n",
        "print('FINALIZADO')"
      ],
      "metadata": {
        "colab": {
          "base_uri": "https://localhost:8080/"
        },
        "id": "fshsl5_Ib85i",
        "outputId": "e8140f4d-0f06-456b-bb42-b3bf1166f5e4"
      },
      "execution_count": 16,
      "outputs": [
        {
          "output_type": "stream",
          "name": "stdout",
          "text": [
            ">#\n",
            "#\n",
            ">outro\n",
            "outro\n",
            "outro\n",
            "Mais uma iteração\n",
            ">parar\n",
            "parar\n",
            "FINALIZADO\n"
          ]
        }
      ]
    },
    {
      "cell_type": "markdown",
      "source": [
        "COMANDO FOR"
      ],
      "metadata": {
        "id": "dtxJ7oRIdqRX"
      }
    },
    {
      "cell_type": "code",
      "source": [
        "listaAmigos = ['maria','jose','joaquim','marcia','francisco']\n",
        "for nomeAmigo in listaAmigos:\n",
        "  print('Prazer em revê-lo : ',nomeAmigo)\n",
        "print('FINALIZADO')"
      ],
      "metadata": {
        "colab": {
          "base_uri": "https://localhost:8080/"
        },
        "id": "Bz0MHUrPdtzq",
        "outputId": "41e75f07-fc92-4869-ddc4-2bd2a22164ce"
      },
      "execution_count": 18,
      "outputs": [
        {
          "output_type": "stream",
          "name": "stdout",
          "text": [
            "Prazer em revê-lo :  maria\n",
            "Prazer em revê-lo :  jose\n",
            "Prazer em revê-lo :  joaquim\n",
            "Prazer em revê-lo :  marcia\n",
            "Prazer em revê-lo :  francisco\n",
            "FINALIZADO\n"
          ]
        }
      ]
    },
    {
      "cell_type": "markdown",
      "source": [
        "CONTA E SOMAR"
      ],
      "metadata": {
        "id": "Aa2UY6yVeSVI"
      }
    },
    {
      "cell_type": "code",
      "source": [
        "contador=0\n",
        "for item in [12,45,67,89,34,65,23,89]:\n",
        "  contador=contador+1\n",
        "print('Contagem de items : ',contador)"
      ],
      "metadata": {
        "colab": {
          "base_uri": "https://localhost:8080/"
        },
        "id": "80AoVyGCeT58",
        "outputId": "b19d9306-82a9-4bba-d2a7-da1acd638288"
      },
      "execution_count": 22,
      "outputs": [
        {
          "output_type": "stream",
          "name": "stdout",
          "text": [
            "Contagem de items :  8\n"
          ]
        }
      ]
    },
    {
      "cell_type": "code",
      "source": [
        "soma=0\n",
        "for item in [12,45,67,89,34,65,23,89]:\n",
        "  soma=soma+item\n",
        "print('Soma dos itens : ',soma)"
      ],
      "metadata": {
        "colab": {
          "base_uri": "https://localhost:8080/"
        },
        "id": "blRQf4BJe4b1",
        "outputId": "81802ad8-373a-4ec8-ac4c-b8fdfe02f734"
      },
      "execution_count": 24,
      "outputs": [
        {
          "output_type": "stream",
          "name": "stdout",
          "text": [
            "Soma dos itens :  424\n"
          ]
        }
      ]
    },
    {
      "cell_type": "markdown",
      "source": [
        "MÁXIMO E MÍNIMO"
      ],
      "metadata": {
        "id": "iNbe0MnEfNky"
      }
    },
    {
      "cell_type": "code",
      "source": [
        "maior = None\n",
        "print('Iniciando a escolha do MAIOR')\n",
        "for item in [87,90,23,66,12,34,97,56,123]:\n",
        "  if maior is None or item>maior:\n",
        "    maior=item\n",
        "  print('Ainda não terminei : ',item,maior)\n",
        "print('Maior valor é : ', maior)"
      ],
      "metadata": {
        "id": "y3cZLJ78fP26"
      },
      "execution_count": null,
      "outputs": []
    },
    {
      "cell_type": "code",
      "source": [
        "menor = None\n",
        "print('Iniciando a escolha do MENOR')\n",
        "for item in [87,90,23,66,12,34,97,56,123]:\n",
        "  if menor is None or item<menor:\n",
        "    menor=item\n",
        "  print('Ainda não terminei : ',item,menor)\n",
        "print('Menor valor é : ', menor)"
      ],
      "metadata": {
        "id": "evEeCjqcgCX2"
      },
      "execution_count": null,
      "outputs": []
    },
    {
      "cell_type": "markdown",
      "source": [
        ""
      ],
      "metadata": {
        "id": "KIcpEYIGgm9a"
      }
    }
  ]
}